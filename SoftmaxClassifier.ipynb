{
  "cells": [
    {
      "cell_type": "markdown",
      "metadata": {
        "id": "view-in-github",
        "colab_type": "text"
      },
      "source": [
        "<a href=\"https://colab.research.google.com/github/armandoordonez/machinelearning/blob/main/SoftmaxClassifier.ipynb\" target=\"_parent\"><img src=\"https://colab.research.google.com/assets/colab-badge.svg\" alt=\"Open In Colab\"/></a>"
      ]
    },
    {
      "cell_type": "code",
      "execution_count": 1,
      "metadata": {
        "colab": {
          "base_uri": "https://localhost:8080/",
          "height": 447
        },
        "id": "TIa4NC0Otk36",
        "outputId": "435e5086-6c26-442b-fb90-6701bea5d8c6"
      },
      "outputs": [
        {
          "output_type": "stream",
          "name": "stdout",
          "text": [
            "Downloading data from https://storage.googleapis.com/tensorflow/tf-keras-datasets/mnist.npz\n",
            "11490434/11490434 [==============================] - 0s 0us/step\n"
          ]
        },
        {
          "output_type": "display_data",
          "data": {
            "text/plain": [
              "<Figure size 720x504 with 15 Axes>"
            ],
            "image/png": "[encoded data removed]"
          },
          "metadata": {
            "needs_background": "light"
          }
        }
      ],
      "source": [
        "#Loading\n",
        "from keras.datasets import mnist\n",
        "import matplotlib.pyplot as plt\n",
        "\n",
        "\n",
        "(train_X, train_y), (test_X, test_y) = mnist.load_data()\n",
        "\n",
        "#Plotting\n",
        "\n",
        "fig = plt.figure(figsize=(10,7))\n",
        "\n",
        "for i in range(15):  \n",
        "    ax = fig.add_subplot(3, 5, i+1)\n",
        "    ax.imshow(train_X[i], cmap=plt.get_cmap('gray'))\n",
        "    ax.set_title('Label (y): {y}'.format(y=train_y[i]))\n",
        "    plt.axis('off')"
      ]
    },
    {
      "cell_type": "code",
      "execution_count": 2,
      "metadata": {
        "id": "NmNjtpHMtl8-"
      },
      "outputs": [],
      "source": [
        "X_train = train_X.reshape(60000,28*28)\n",
        "X_test = test_X.reshape(10000,28*28)"
      ]
    },
    {
      "cell_type": "code",
      "execution_count": 3,
      "metadata": {
        "colab": {
          "base_uri": "https://localhost:8080/"
        },
        "id": "Slz62jHCt_fF",
        "outputId": "3d6cf987-c150-4f50-d165-229576dc3c28"
      },
      "outputs": [
        {
          "output_type": "execute_result",
          "data": {
            "text/plain": [
              "array([5, 0, 4, ..., 5, 6, 8], dtype=uint8)"
            ]
          },
          "metadata": {},
          "execution_count": 3
        }
      ],
      "source": [
        "train_y"
      ]
    },
    {
      "cell_type": "code",
      "execution_count": 4,
      "metadata": {
        "colab": {
          "base_uri": "https://localhost:8080/"
        },
        "id": "VshWZxdTuGhj",
        "outputId": "1b5f9e35-3507-41e2-e067-0efcd390f96f"
      },
      "outputs": [
        {
          "output_type": "execute_result",
          "data": {
            "text/plain": [
              "(60000,)"
            ]
          },
          "metadata": {},
          "execution_count": 4
        }
      ],
      "source": [
        "train_y.shape"
      ]
    },
    {
      "cell_type": "code",
      "execution_count": 5,
      "metadata": {
        "id": "9GYe2AjJuUzk"
      },
      "outputs": [],
      "source": [
        "import numpy as np\n",
        "\n",
        "def one_hot(y, c):\n",
        "\n",
        "    # y--> label/ground truth.\n",
        "    # c--> Number of classes.\n",
        "    \n",
        "    # A zero matrix of size (m, c)\n",
        "    y_hot = np.zeros((len(y), c))\n",
        "    \n",
        "    # Putting 1 for column where the label is,\n",
        "    # Using multidimensional indexing.\n",
        "    y_hot[np.arange(len(y)), y] = 1\n",
        "    \n",
        "    return y_hot"
      ]
    },
    {
      "cell_type": "code",
      "execution_count": 6,
      "metadata": {
        "id": "VJ6odDONulBy"
      },
      "outputs": [],
      "source": [
        "def softmax(z):\n",
        "    \n",
        "    # z--> linear part.\n",
        "    \n",
        "    # subtracting the max of z for numerical stability.\n",
        "    exp = np.exp(z - np.max(z))\n",
        "    \n",
        "    # Calculating softmax for all examples.\n",
        "    for i in range(len(z)):\n",
        "        exp[i] /= np.sum(exp[i])\n",
        "        \n",
        "    return exp"
      ]
    },
    {
      "cell_type": "code",
      "execution_count": 7,
      "metadata": {
        "id": "d9EHkEYNvkK-"
      },
      "outputs": [],
      "source": [
        "def fit(X, y, lr, c, epochs):\n",
        "    \n",
        "    # X --> Input.\n",
        "    # y --> true/target value.\n",
        "    # lr --> Learning rate.\n",
        "    # c --> Number of classes.\n",
        "    # epochs --> Number of iterations.\n",
        "    \n",
        "        \n",
        "    # m-> number of training examples\n",
        "    # n-> number of features \n",
        "    m, n = X.shape\n",
        "    \n",
        "    # Initializing weights and bias randomly.\n",
        "    w = np.random.random((n, c))\n",
        "    b = np.random.random(c)\n",
        "    # Empty list to store losses.\n",
        "    losses = []\n",
        "    \n",
        "    # Training loop.\n",
        "    for epoch in range(epochs):\n",
        "        \n",
        "        # Calculating hypothesis/prediction.\n",
        "        z = X@w + b\n",
        "        y_hat = softmax(z)\n",
        "        \n",
        "        # One-hot encoding y.\n",
        "        y_hot = one_hot(y, c)\n",
        "        \n",
        "        # Calculating the gradient of loss w.r.t w and b.\n",
        "        w_grad = (1/m)*np.dot(X.T, (y_hat - y_hot)) \n",
        "        b_grad = (1/m)*np.sum(y_hat - y_hot)\n",
        "        \n",
        "        # Updating the parameters.\n",
        "        w = w - lr*w_grad\n",
        "        b = b - lr*b_grad\n",
        "        \n",
        "        # Calculating loss and appending it in the list.\n",
        "        loss = -np.mean(np.log(y_hat[np.arange(len(y)), y]))\n",
        "        losses.append(loss)\n",
        "        # Printing out the loss at every 100th iteration.\n",
        "        if epoch%100==0:\n",
        "            print('Epoch {epoch}==> Loss = {loss}'\n",
        "                  .format(epoch=epoch, loss=loss))\n",
        "    return w, b, losses"
      ]
    },
    {
      "cell_type": "code",
      "execution_count": 8,
      "metadata": {
        "colab": {
          "base_uri": "https://localhost:8080/"
        },
        "id": "vVEEWayzvwuL",
        "outputId": "27f21943-9c38-4b07-d54d-01cf3c856a6f"
      },
      "outputs": [
        {
          "output_type": "stream",
          "name": "stdout",
          "text": [
            "Epoch 0==> Loss = 5.289440948741957\n",
            "Epoch 100==> Loss = 0.41756656616229637\n",
            "Epoch 200==> Loss = 0.36334675084702206\n",
            "Epoch 300==> Loss = 0.3395633148854406\n",
            "Epoch 400==> Loss = 0.3254298125970955\n",
            "Epoch 500==> Loss = 0.3157785094117039\n",
            "Epoch 600==> Loss = 0.30862869426643147\n",
            "Epoch 700==> Loss = 0.30304116253274915\n",
            "Epoch 800==> Loss = 0.2985070263957135\n",
            "Epoch 900==> Loss = 0.29472369087940964\n"
          ]
        }
      ],
      "source": [
        "# Flattening the image.\n",
        "X_train = train_X.reshape(60000,28*28)\n",
        "# Normalizing. \n",
        "X_train = X_train/255\n",
        "# Training\n",
        "w, b, l = fit(X_train, train_y, lr=0.9, c=10, epochs=1000)"
      ]
    },
    {
      "cell_type": "code",
      "execution_count": 9,
      "metadata": {
        "id": "s01VebOvv13L"
      },
      "outputs": [],
      "source": [
        "def predict(X, w, b):\n",
        "    # X --> Input.\n",
        "    # w --> weights.\n",
        "    # b --> bias.\n",
        "    # Predicting\n",
        "    z = X@w + b\n",
        "    y_hat = softmax(z)\n",
        "    # Returning the class with highest probability.\n",
        "    return np.argmax(y_hat, axis=1)"
      ]
    },
    {
      "cell_type": "code",
      "execution_count": 10,
      "metadata": {
        "id": "CA6rELXVv-tw"
      },
      "outputs": [],
      "source": [
        "def accuracy(y, y_hat):\n",
        "    return np.sum(y==y_hat)/len(y)"
      ]
    },
    {
      "cell_type": "code",
      "execution_count": 15,
      "metadata": {
        "id": "H1JjFm_bv-wo",
        "colab": {
          "base_uri": "https://localhost:8080/"
        },
        "outputId": "b2b2d662-0104-430e-ea23-b3b957f3abd0"
      },
      "outputs": [
        {
          "output_type": "execute_result",
          "data": {
            "text/plain": [
              "0.9189833333333334"
            ]
          },
          "metadata": {},
          "execution_count": 15
        }
      ],
      "source": [
        "# Accuracy for training set.\n",
        "train_preds = predict(X_train, w, b)\n",
        "accuracy(train_y, train_preds)\n"
      ]
    },
    {
      "cell_type": "code",
      "source": [
        "\n",
        "# Accuracy for test set.\n",
        "# Flattening and normalizing.\n",
        "X_test = test_X.reshape(10000,28*28)\n",
        "X_test = X_test/255\n",
        "test_preds = predict(X_test, w, b)\n",
        "accuracy(test_y, test_preds)"
      ],
      "metadata": {
        "colab": {
          "base_uri": "https://localhost:8080/"
        },
        "id": "WdX9PW2DKOy-",
        "outputId": "4ad67c77-49a5-4796-cfea-5d7081041537"
      },
      "execution_count": 20,
      "outputs": [
        {
          "output_type": "execute_result",
          "data": {
            "text/plain": [
              "0.9162"
            ]
          },
          "metadata": {},
          "execution_count": 20
        }
      ]
    },
    {
      "cell_type": "code",
      "execution_count": 19,
      "metadata": {
        "id": "n2lSLBxTv-zu",
        "colab": {
          "base_uri": "https://localhost:8080/",
          "height": 586
        },
        "outputId": "d1cee8ec-34a6-4186-c533-e3085718a271"
      },
      "outputs": [
        {
          "output_type": "display_data",
          "data": {
            "text/plain": [
              "<Figure size 1080x720 with 40 Axes>"
            ],
            "image/png": "[encoded data removed]"
          },
          "metadata": {
            "needs_background": "light"
          }
        }
      ],
      "source": [
        "fig = plt.figure(figsize=(15,10))\n",
        "\n",
        "for i in range(40):  \n",
        "    ax = fig.add_subplot(5, 8, i+1)\n",
        "    ax.imshow(test_X[i], cmap=plt.get_cmap('gray'))\n",
        "    ax.set_title('y: {y}/ y_hat: {y_hat}'.format(y=test_y[i], y_hat=test_preds[i]))\n",
        "    plt.axis('off')"
      ]
    },
    {
      "cell_type": "code",
      "execution_count": 13,
      "metadata": {
        "id": "wvjc5NMzv-2o",
        "colab": {
          "base_uri": "https://localhost:8080/",
          "height": 248
        },
        "outputId": "659fde2b-4673-4eac-9b6a-48d0f2bc0257"
      },
      "outputs": [
        {
          "output_type": "display_data",
          "data": {
            "text/plain": [
              "<Figure size 432x288 with 1 Axes>"
            ],
            "image/png": "[encoded data removed]"
          },
          "metadata": {
            "needs_background": "light"
          }
        }
      ],
      "source": []
    },
    {
      "cell_type": "code",
      "source": [],
      "metadata": {
        "id": "i4NqJCASJ9oX"
      },
      "execution_count": null,
      "outputs": []
    }
  ],
  "metadata": {
    "colab": {
      "provenance": [],
      "authorship_tag": "ABX9TyMN9SmY1s/hRr9CVUMupbTj",
      "include_colab_link": true
    },
    "kernelspec": {
      "display_name": "Python 3",
      "name": "python3"
    },
    "language_info": {
      "name": "python"
    }
  },
  "nbformat": 4,
  "nbformat_minor": 0
}