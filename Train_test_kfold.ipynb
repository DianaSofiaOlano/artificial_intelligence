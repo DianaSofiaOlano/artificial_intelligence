{
  "nbformat": 4,
  "nbformat_minor": 0,
  "metadata": {
    "colab": {
      "provenance": [],
      "authorship_tag": "ABX9TyP9M07X876pcWw7vQ2reaFr",
      "include_colab_link": true
    },
    "kernelspec": {
      "name": "python3",
      "display_name": "Python 3"
    },
    "language_info": {
      "name": "python"
    }
  },
  "cells": [
    {
      "cell_type": "markdown",
      "metadata": {
        "id": "view-in-github",
        "colab_type": "text"
      },
      "source": [
        "<a href=\"https://colab.research.google.com/github/armandoordonez/machinelearning/blob/main/Train_test_kfold.ipynb\" target=\"_parent\"><img src=\"https://colab.research.google.com/assets/colab-badge.svg\" alt=\"Open In Colab\"/></a>"
      ]
    },
    {
      "cell_type": "code",
      "execution_count": 4,
      "metadata": {
        "id": "jPFqThowwgtp"
      },
      "outputs": [],
      "source": [
        "# Based on: https://towardsdatascience.com/train-test-split-and-cross-validation-in-python-80b61beca4b6\n",
        "\n",
        "import pandas as pd\n",
        "from sklearn import datasets, linear_model\n",
        "from sklearn.model_selection import train_test_split\n",
        "from matplotlib import pyplot as plt"
      ]
    },
    {
      "cell_type": "code",
      "source": [
        "# Load the Diabetes dataset\n",
        "columns = \"age sex bmi map tc ldl hdl tch ltg glu\".split() \n",
        "# Declare the columns names\n",
        "diabetes = datasets.load_diabetes() # Call the diabetes dataset from sklearn\n",
        "df = pd.DataFrame(diabetes.data, columns=columns) # load the dataset as a pandas data frame\n",
        "y = diabetes.target # define the target variable (dependent variable) as y\n",
        "# create training and testing vars\n",
        "X_train, X_test, y_train, y_test = train_test_split(df, y, test_size=0.2)\n",
        "print (X_train.shape, y_train.shape)\n",
        "print (X_test.shape, y_test.shape)"
      ],
      "metadata": {
        "colab": {
          "base_uri": "https://localhost:8080/"
        },
        "id": "nZ6PD6vXwjA_",
        "outputId": "9f00da25-c52b-44f1-8c5c-e043eb0fda19"
      },
      "execution_count": 5,
      "outputs": [
        {
          "output_type": "stream",
          "name": "stdout",
          "text": [
            "(353, 10) (353,)\n",
            "(89, 10) (89,)\n"
          ]
        }
      ]
    },
    {
      "cell_type": "code",
      "source": [
        "# fit a model\n",
        "lm = linear_model.LinearRegression()\n",
        "model = lm.fit(X_train, y_train)\n",
        "predictions = lm.predict(X_test)\n"
      ],
      "metadata": {
        "id": "ck5KZuHOwjG9"
      },
      "execution_count": 8,
      "outputs": []
    },
    {
      "cell_type": "code",
      "source": [
        "## The line / model\n",
        "plt.scatter(y_test, predictions)\n",
        "plt.xlabel(\"True Values\")\n",
        "plt.ylabel(\"Predictions\")"
      ],
      "metadata": {
        "colab": {
          "base_uri": "https://localhost:8080/",
          "height": 296
        },
        "id": "4XAGtkiBwjJ1",
        "outputId": "224bb281-8048-4ccf-f5a3-7de241589cd8"
      },
      "execution_count": 9,
      "outputs": [
        {
          "output_type": "execute_result",
          "data": {
            "text/plain": [
              "Text(0, 0.5, 'Predictions')"
            ]
          },
          "metadata": {},
          "execution_count": 9
        },
        {
          "output_type": "display_data",
          "data": {
            "text/plain": [
              "<Figure size 432x288 with 1 Axes>"
            ],
            "image/png": "[encoded data removed]"
          },
          "metadata": {
            "needs_background": "light"
          }
        }
      ]
    },
    {
      "cell_type": "code",
      "source": [
        "from sklearn.model_selection import KFold # import KFold\n",
        "import numpy as np\n",
        "\n",
        "X = np.array([[1, 2], [3, 4], [1, 2], [3, 4]]) # create an array\n",
        "y = np.array([1, 2, 3, 4]) # Create another array\n",
        "\n",
        "kf = KFold(n_splits=2) # Define the split - into 2 folds \n",
        "kf.get_n_splits(X) # returns the number of splitting iterations in the cross-validator\n",
        "\n",
        "print(kf) \n",
        "\n",
        "KFold(n_splits=2, random_state=None, shuffle=False)"
      ],
      "metadata": {
        "colab": {
          "base_uri": "https://localhost:8080/"
        },
        "id": "yS0LtCiwwjM9",
        "outputId": "59e8cadd-ffab-40ea-d7ce-b89c550a38c6"
      },
      "execution_count": 10,
      "outputs": [
        {
          "output_type": "stream",
          "name": "stdout",
          "text": [
            "KFold(n_splits=2, random_state=None, shuffle=False)\n"
          ]
        },
        {
          "output_type": "execute_result",
          "data": {
            "text/plain": [
              "KFold(n_splits=2, random_state=None, shuffle=False)"
            ]
          },
          "metadata": {},
          "execution_count": 10
        }
      ]
    },
    {
      "cell_type": "code",
      "source": [
        "for train_index, test_index in kf.split(X):\n",
        " print(\"TRAIN:\", train_index, \"TEST:\", test_index)\n",
        " X_train, X_test = X[train_index], X[test_index]\n",
        " y_train, y_test = y[train_index], y[test_index]"
      ],
      "metadata": {
        "colab": {
          "base_uri": "https://localhost:8080/"
        },
        "id": "O9HeNzIYx5Ru",
        "outputId": "0d92e964-ace5-4b37-8477-af01549020a5"
      },
      "execution_count": 11,
      "outputs": [
        {
          "output_type": "stream",
          "name": "stdout",
          "text": [
            "TRAIN: [2 3] TEST: [0 1]\n",
            "TRAIN: [0 1] TEST: [2 3]\n"
          ]
        }
      ]
    },
    {
      "cell_type": "code",
      "source": [
        "from sklearn.model_selection import LeaveOneOut \n",
        "X = np.array([[1, 2], [3, 4]])\n",
        "y = np.array([1, 2])\n",
        "loo = LeaveOneOut()\n",
        "loo.get_n_splits(X)\n",
        "\n",
        "\n",
        "for train_index, test_index in loo.split(X):\n",
        "   print(\"TRAIN:\", train_index, \"TEST:\", test_index)\n",
        "   X_train, X_test = X[train_index], X[test_index]\n",
        "   y_train, y_test = y[train_index], y[test_index]\n",
        "   print(X_train, X_test, y_train, y_test)"
      ],
      "metadata": {
        "colab": {
          "base_uri": "https://localhost:8080/"
        },
        "id": "M4BGCFFiyA3Y",
        "outputId": "27ad7a1b-b56f-4802-eafc-20aaebea0c92"
      },
      "execution_count": 12,
      "outputs": [
        {
          "output_type": "stream",
          "name": "stdout",
          "text": [
            "TRAIN: [1] TEST: [0]\n",
            "[[3 4]] [[1 2]] [2] [1]\n",
            "TRAIN: [0] TEST: [1]\n",
            "[[1 2]] [[3 4]] [1] [2]\n"
          ]
        }
      ]
    },
    {
      "cell_type": "code",
      "source": [
        "from sklearn.model_selection import cross_val_score, cross_val_predict\n",
        "from sklearn import metrics\n",
        "\n",
        "# Load the Diabetes dataset\n",
        "columns = \"age sex bmi map tc ldl hdl tch ltg glu\".split() \n",
        "# Declare the columns names\n",
        "diabetes = datasets.load_diabetes() # Call the diabetes dataset from sklearn\n",
        "df = pd.DataFrame(diabetes.data, columns=columns) # load the dataset as a pandas data frame\n",
        "y = diabetes.target # define the target variable (dependent variable) as y\n",
        "# create training and testing vars\n",
        "X_train, X_test, y_train, y_test = train_test_split(df, y, test_size=0.2)\n",
        "print (X_train.shape, y_train.shape)\n",
        "print (X_test.shape, y_test.shape)\n",
        "\n",
        "\n",
        "# fit a model\n",
        "lm = linear_model.LinearRegression()\n",
        "model = lm.fit(X_train, y_train)\n",
        "predictions = lm.predict(X_test)\n",
        "predictions[0:5]\n",
        "\n",
        "scores = cross_val_score(model, df, y, cv=6)\n",
        "print (\"Cross-validated scores:\", scores)"
      ],
      "metadata": {
        "colab": {
          "base_uri": "https://localhost:8080/"
        },
        "id": "53OcULYHykSG",
        "outputId": "2b7ddfa7-3d83-475e-fa1e-745f1df6c0d0"
      },
      "execution_count": 13,
      "outputs": [
        {
          "output_type": "stream",
          "name": "stdout",
          "text": [
            "(353, 10) (353,)\n",
            "(89, 10) (89,)\n",
            "Cross-validated scores: [0.45548694 0.46138022 0.40094331 0.55220826 0.43941841 0.56923477]\n"
          ]
        }
      ]
    },
    {
      "cell_type": "code",
      "source": [
        "# Make cross validated predictions\n",
        "predictions = cross_val_predict(model, df, y, cv=6)\n",
        "plt.scatter(y, predictions)"
      ],
      "metadata": {
        "colab": {
          "base_uri": "https://localhost:8080/",
          "height": 282
        },
        "id": "8MU5Hy56zBgP",
        "outputId": "00855b40-fc4c-436f-c2dd-04bd8319ce48"
      },
      "execution_count": 14,
      "outputs": [
        {
          "output_type": "execute_result",
          "data": {
            "text/plain": [
              "<matplotlib.collections.PathCollection at 0x7fade72c4d90>"
            ]
          },
          "metadata": {},
          "execution_count": 14
        },
        {
          "output_type": "display_data",
          "data": {
            "text/plain": [
              "<Figure size 432x288 with 1 Axes>"
            ],
            "image/png": "[encoded data removed]"
          },
          "metadata": {
            "needs_background": "light"
          }
        }
      ]
    },
    {
      "cell_type": "code",
      "source": [
        "accuracy = metrics.r2_score(y, predictions)\n",
        "print (\"Cross-Predicted Accuracy:\", accuracy)"
      ],
      "metadata": {
        "colab": {
          "base_uri": "https://localhost:8080/"
        },
        "id": "AxHFvnCDzW2q",
        "outputId": "e3a99712-cc33-4473-dec3-d45cd6912caa"
      },
      "execution_count": 15,
      "outputs": [
        {
          "output_type": "stream",
          "name": "stdout",
          "text": [
            "Cross-Predicted Accuracy: 0.49080495389383993\n"
          ]
        }
      ]
    },
    {
      "cell_type": "code",
      "source": [],
      "metadata": {
        "id": "-WZIBHiJzgD4"
      },
      "execution_count": null,
      "outputs": []
    }
  ]
}