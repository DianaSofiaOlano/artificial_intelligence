{
  "nbformat": 4,
  "nbformat_minor": 0,
  "metadata": {
    "colab": {
      "provenance": [],
      "authorship_tag": "ABX9TyOvl2fTINYRUpw3c67y3O0k",
      "include_colab_link": true
    },
    "kernelspec": {
      "name": "python3",
      "display_name": "Python 3"
    },
    "language_info": {
      "name": "python"
    }
  },
  "cells": [
    {
      "cell_type": "markdown",
      "metadata": {
        "id": "view-in-github",
        "colab_type": "text"
      },
      "source": [
        "<a href=\"https://colab.research.google.com/github/armandoordonez/machinelearning/blob/main/Ridge.ipynb\" target=\"_parent\"><img src=\"https://colab.research.google.com/assets/colab-badge.svg\" alt=\"Open In Colab\"/></a>"
      ]
    },
    {
      "cell_type": "code",
      "source": [
        "# based on https://machinelearningmastery.com/ridge-regression-with-python/\n",
        "\n",
        "# evaluate an ridge regression model on the dataset\n",
        "from numpy import mean\n",
        "from numpy import std\n",
        "from numpy import absolute\n",
        "from pandas import read_csv\n",
        "\n",
        "from sklearn.model_selection import cross_val_score\n",
        "from sklearn.model_selection import RepeatedKFold\n",
        "from sklearn.linear_model import Ridge\n",
        "\n",
        "# load the dataset\n",
        "url = 'https://raw.githubusercontent.com/armandoordonez/machinelearning/main/datasets/housing.csv'\n",
        "dataframe = read_csv(url, header=None)\n",
        "data = dataframe.values\n",
        "\n",
        "X, y = data[:, :-1], data[:, -1]\n",
        "\n",
        "# define model\n",
        "\n",
        "model = Ridge(alpha=1.0)\n",
        "\n",
        "# define model evaluation method\n",
        "cv = RepeatedKFold(n_splits=10, n_repeats=3, random_state=1)\n",
        "\n",
        "# evaluate model\n",
        "scores = cross_val_score(model, X, y, scoring='neg_mean_absolute_error', cv=cv, n_jobs=-1)\n",
        "\n",
        "# force scores to be positive\n",
        "\n",
        "scores = absolute(scores)"
      ],
      "metadata": {
        "colab": {
          "base_uri": "https://localhost:8080/"
        },
        "id": "8_EiJgwmmeY9",
        "outputId": "b7555695-2ebd-4caa-c0a6-b004efd15f2d"
      },
      "execution_count": 7,
      "outputs": [
        {
          "output_type": "stream",
          "name": "stdout",
          "text": [
            "Mean MAE: 3.382 (0.519)\n"
          ]
        }
      ]
    },
    {
      "cell_type": "code",
      "source": [
        "# make a prediction with a ridge regression model on the dataset\n",
        "from pandas import read_csv\n",
        "from sklearn.linear_model import Ridge\n",
        "# load the dataset\n",
        "url = 'https://raw.githubusercontent.com/armandoordonez/machinelearning/main/datasets/housing.csv'\n",
        "dataframe = read_csv(url, header=None)\n",
        "data = dataframe.values\n",
        "X, y = data[:, :-1], data[:, -1]\n",
        "# define model\n",
        "model = Ridge(alpha=1.0)\n",
        "# fit model\n",
        "model.fit(X, y)\n",
        "# define new data\n",
        "row = [0.00632,18.00,2.310,0,0.5380,6.5750,65.20,4.0900,1,296.0,15.30,396.90,4.98]\n",
        "# make a prediction\n",
        "yhat = model.predict([row])\n",
        "# summarize prediction\n",
        "print('Predicted: %.3f' % yhat)"
      ],
      "metadata": {
        "colab": {
          "base_uri": "https://localhost:8080/"
        },
        "id": "O8n3wDUSmhxN",
        "outputId": "b8753ef7-2955-458a-e931-8282acb9406c"
      },
      "execution_count": 8,
      "outputs": [
        {
          "output_type": "stream",
          "name": "stdout",
          "text": [
            "Predicted: 30.253\n"
          ]
        }
      ]
    },
    {
      "cell_type": "code",
      "source": [
        "from numpy import arange\n",
        "from pandas import read_csv\n",
        "from sklearn.model_selection import GridSearchCV\n",
        "from sklearn.model_selection import RepeatedKFold\n",
        "from sklearn.linear_model import Ridge\n",
        "# load the dataset\n",
        "url = 'https://raw.githubusercontent.com/armandoordonez/machinelearning/main/datasets/housing.csv'\n",
        "dataframe = read_csv(url, header=None)\n",
        "data = dataframe.values\n",
        "X, y = data[:, :-1], data[:, -1]\n",
        "# define model\n",
        "model = Ridge()\n",
        "# define model evaluation method\n",
        "cv = RepeatedKFold(n_splits=10, n_repeats=3, random_state=1)\n",
        "# define grid\n",
        "grid = dict()\n",
        "grid['alpha'] = arange(0, 1, 0.01)\n",
        "# define search\n",
        "search = GridSearchCV(model, grid, scoring='neg_mean_absolute_error', cv=cv, n_jobs=-1)\n",
        "# perform the search\n",
        "results = search.fit(X, y)\n",
        "# summarize\n",
        "print('MAE: %.3f' % results.best_score_)\n",
        "print('Config: %s' % results.best_params_)"
      ],
      "metadata": {
        "colab": {
          "base_uri": "https://localhost:8080/"
        },
        "id": "LWxScKEgnagk",
        "outputId": "6d9629f3-bbb5-4d83-9a32-511d8bba12dd"
      },
      "execution_count": 9,
      "outputs": [
        {
          "output_type": "stream",
          "name": "stdout",
          "text": [
            "MAE: -3.379\n",
            "Config: {'alpha': 0.51}\n"
          ]
        }
      ]
    },
    {
      "cell_type": "code",
      "source": [
        "\n",
        "# use automatically configured the ridge regression algorithm\n",
        "from numpy import arange\n",
        "from pandas import read_csv\n",
        "from sklearn.linear_model import RidgeCV\n",
        "from sklearn.model_selection import RepeatedKFold\n",
        "# load the dataset\n",
        "url = 'https://raw.githubusercontent.com/armandoordonez/machinelearning/main/datasets/housing.csv'\n",
        "dataframe = read_csv(url, header=None)\n",
        "data = dataframe.values\n",
        "X, y = data[:, :-1], data[:, -1]\n",
        "# define model evaluation method\n",
        "cv = RepeatedKFold(n_splits=10, n_repeats=3, random_state=1)\n",
        "# define model\n",
        "model = RidgeCV(alphas=arange(0, 1, 0.01), cv=cv, scoring='neg_mean_absolute_error')\n",
        "# fit model\n",
        "model.fit(X, y)\n",
        "# summarize chosen configuration\n",
        "print('alpha: %f' % model.alpha_)"
      ],
      "metadata": {
        "colab": {
          "base_uri": "https://localhost:8080/"
        },
        "id": "MvTlK0XZnizt",
        "outputId": "7c63032e-8291-44a3-cec8-9ddb223e08f1"
      },
      "execution_count": 10,
      "outputs": [
        {
          "output_type": "stream",
          "name": "stdout",
          "text": [
            "alpha: 0.510000\n"
          ]
        }
      ]
    },
    {
      "cell_type": "code",
      "source": [
        "import pandas as pd\n",
        "from sklearn.model_selection import train_test_split\n",
        "from sklearn.preprocessing import StandardScaler\n",
        "from sklearn.linear_model import Ridge\n",
        "from sklearn.pipeline import make_pipeline\n",
        "from sklearn.metrics import mean_squared_error, r2_score\n",
        "from sklearn import datasets\n",
        "#\n",
        "# Load the Sklearn Boston Dataset\n",
        "#\n",
        "boston_ds = datasets.load_boston()\n",
        "X = boston_ds.data\n",
        "y = boston_ds.target\n",
        "#\n",
        "# Create a training and test split\n",
        "#\n",
        "X_train, X_test, y_train, y_test = train_test_split(X, y, test_size=0.3, random_state=42)\n",
        "#\n",
        "# Fit a pipeline using Training dataset and related labels\n",
        "# Use Ridge algorithm for training the model\n",
        "#\n",
        "pipeline = make_pipeline(StandardScaler(), Ridge(alpha=1.0))\n",
        "pipeline.fit(X_train, y_train)\n",
        "#\n",
        "# Calculate the predicted value for training and test dataset\n",
        "#\n",
        "y_train_pred = pipeline.predict(X_train)\n",
        "y_test_pred = pipeline.predict(X_test)\n",
        "#\n",
        "# Mean Squared Error\n",
        "#\n",
        "print('MSE train: %.3f, test: %.3f' % (mean_squared_error(y_train, y_train_pred),\n",
        "                mean_squared_error(y_test, y_test_pred)))\n",
        "#\n",
        "# R-Squared\n",
        "#\n",
        "print('R^2 train: %.3f, test: %.3f' % (r2_score(y_train, y_train_pred), r2_score(y_test, y_test_pred)))\n"
      ],
      "metadata": {
        "colab": {
          "base_uri": "https://localhost:8080/"
        },
        "id": "TY3TO0TponHP",
        "outputId": "08a965cf-ff3a-434b-b82b-b0144151d8eb"
      },
      "execution_count": 11,
      "outputs": [
        {
          "output_type": "stream",
          "name": "stdout",
          "text": [
            "MSE train: 22.547, test: 21.549\n",
            "R^2 train: 0.743, test: 0.711\n"
          ]
        },
        {
          "output_type": "stream",
          "name": "stderr",
          "text": [
            "/usr/local/lib/python3.8/dist-packages/sklearn/utils/deprecation.py:87: FutureWarning: Function load_boston is deprecated; `load_boston` is deprecated in 1.0 and will be removed in 1.2.\n",
            "\n",
            "    The Boston housing prices dataset has an ethical problem. You can refer to\n",
            "    the documentation of this function for further details.\n",
            "\n",
            "    The scikit-learn maintainers therefore strongly discourage the use of this\n",
            "    dataset unless the purpose of the code is to study and educate about\n",
            "    ethical issues in data science and machine learning.\n",
            "\n",
            "    In this special case, you can fetch the dataset from the original\n",
            "    source::\n",
            "\n",
            "        import pandas as pd\n",
            "        import numpy as np\n",
            "\n",
            "\n",
            "        data_url = \"http://lib.stat.cmu.edu/datasets/boston\"\n",
            "        raw_df = pd.read_csv(data_url, sep=\"\\s+\", skiprows=22, header=None)\n",
            "        data = np.hstack([raw_df.values[::2, :], raw_df.values[1::2, :2]])\n",
            "        target = raw_df.values[1::2, 2]\n",
            "\n",
            "    Alternative datasets include the California housing dataset (i.e.\n",
            "    :func:`~sklearn.datasets.fetch_california_housing`) and the Ames housing\n",
            "    dataset. You can load the datasets as follows::\n",
            "\n",
            "        from sklearn.datasets import fetch_california_housing\n",
            "        housing = fetch_california_housing()\n",
            "\n",
            "    for the California housing dataset and::\n",
            "\n",
            "        from sklearn.datasets import fetch_openml\n",
            "        housing = fetch_openml(name=\"house_prices\", as_frame=True)\n",
            "\n",
            "    for the Ames housing dataset.\n",
            "    \n",
            "  warnings.warn(msg, category=FutureWarning)\n"
          ]
        }
      ]
    },
    {
      "cell_type": "code",
      "source": [],
      "metadata": {
        "id": "bYj6VzYDpuDN"
      },
      "execution_count": null,
      "outputs": []
    }
  ]
}